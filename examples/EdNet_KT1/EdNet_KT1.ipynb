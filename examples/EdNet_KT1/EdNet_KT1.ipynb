{
 "cells": [
  {
   "cell_type": "markdown",
   "id": "e2e16061",
   "metadata": {},
   "source": [
    "# EdNet-KT1 Data Analysis\n",
    "\n",
    "## Columns Description\n",
    "\n",
    "|  Field   | Annotation  |\n",
    "|  ----  | ----  |\n",
    "| user_id  | student's id |\n",
    "| timestamp  |  the moment the question was given, represented as Unix timestamp in milliseconds |\n",
    "| solving_id  | represents each learning session of students corresponds to each bunle. It is a form of single integer, starting from 1 |\n",
    "| question_id  | the ID of the question that given to student, which is a form of q{integer} |\n",
    "| user_answer  | the answer that the student submitted, recorded as a character between a and d inclusively |\n",
    "| elapsed_time  | the time that the students spends on each question in milliseconds |"
   ]
  },
  {
   "cell_type": "markdown",
   "id": "549ffb20",
   "metadata": {},
   "source": [
    "## Statement for Our Data Set"
   ]
  },
  {
   "cell_type": "markdown",
   "id": "df4f6b9d",
   "metadata": {},
   "source": [
    "There are 784309 tables in our data set. Each table describes a student's question-solving log. There is no difference in the information dimension between the tables. Each table contains the `timestamp`,`solving_id`,`question_id`,`user_answer` and `elapsed_time` as described in the above `Columns Description` section."
   ]
  },
  {
   "cell_type": "code",
   "execution_count": 1,
   "id": "6008aec9",
   "metadata": {},
   "outputs": [],
   "source": [
    "import numpy as np\n",
    "import pandas as pd\n",
    "\n",
    "import plotly.express as px\n",
    "from plotly.subplots import make_subplots\n",
    "import plotly.graph_objs as go"
   ]
  },
  {
   "cell_type": "markdown",
   "id": "c81104d8",
   "metadata": {},
   "source": [
    "## Record Example\n",
    "We randomly selected 5000 tables from all the students for analysis,which accounted for about 0.64% of the total data set, and added a column named `user_id` to the original table"
   ]
  },
  {
   "cell_type": "code",
   "execution_count": 2,
   "id": "0e9bf3d3",
   "metadata": {},
   "outputs": [
    {
     "data": {
      "text/html": [
       "<div>\n",
       "<style scoped>\n",
       "    .dataframe tbody tr th:only-of-type {\n",
       "        vertical-align: middle;\n",
       "    }\n",
       "\n",
       "    .dataframe tbody tr th {\n",
       "        vertical-align: top;\n",
       "    }\n",
       "\n",
       "    .dataframe thead th {\n",
       "        text-align: right;\n",
       "    }\n",
       "</style>\n",
       "<table border=\"1\" class=\"dataframe\">\n",
       "  <thead>\n",
       "    <tr style=\"text-align: right;\">\n",
       "      <th></th>\n",
       "      <th>user_id</th>\n",
       "      <th>timestamp</th>\n",
       "      <th>solving_id</th>\n",
       "      <th>question_id</th>\n",
       "      <th>user_answer</th>\n",
       "      <th>elapsed_time</th>\n",
       "    </tr>\n",
       "  </thead>\n",
       "  <tbody>\n",
       "    <tr>\n",
       "      <th>0</th>\n",
       "      <td>u289875</td>\n",
       "      <td>1540277432814</td>\n",
       "      <td>6</td>\n",
       "      <td>q4141</td>\n",
       "      <td>c</td>\n",
       "      <td>17000.0</td>\n",
       "    </tr>\n",
       "    <tr>\n",
       "      <th>1</th>\n",
       "      <td>u289875</td>\n",
       "      <td>1540277448548</td>\n",
       "      <td>5</td>\n",
       "      <td>q3904</td>\n",
       "      <td>a</td>\n",
       "      <td>13000.0</td>\n",
       "    </tr>\n",
       "    <tr>\n",
       "      <th>2</th>\n",
       "      <td>u289875</td>\n",
       "      <td>1540277468789</td>\n",
       "      <td>4</td>\n",
       "      <td>q389</td>\n",
       "      <td>b</td>\n",
       "      <td>17000.0</td>\n",
       "    </tr>\n",
       "    <tr>\n",
       "      <th>3</th>\n",
       "      <td>u289875</td>\n",
       "      <td>1540277500366</td>\n",
       "      <td>3</td>\n",
       "      <td>q5720</td>\n",
       "      <td>c</td>\n",
       "      <td>29000.0</td>\n",
       "    </tr>\n",
       "    <tr>\n",
       "      <th>4</th>\n",
       "      <td>u289875</td>\n",
       "      <td>1540277522779</td>\n",
       "      <td>2</td>\n",
       "      <td>q5366</td>\n",
       "      <td>a</td>\n",
       "      <td>20000.0</td>\n",
       "    </tr>\n",
       "    <tr>\n",
       "      <th>...</th>\n",
       "      <td>...</td>\n",
       "      <td>...</td>\n",
       "      <td>...</td>\n",
       "      <td>...</td>\n",
       "      <td>...</td>\n",
       "      <td>...</td>\n",
       "    </tr>\n",
       "    <tr>\n",
       "      <th>636569</th>\n",
       "      <td>u690972</td>\n",
       "      <td>1563973081837</td>\n",
       "      <td>4</td>\n",
       "      <td>q3925</td>\n",
       "      <td>a</td>\n",
       "      <td>12000.0</td>\n",
       "    </tr>\n",
       "    <tr>\n",
       "      <th>636570</th>\n",
       "      <td>u690972</td>\n",
       "      <td>1563973105964</td>\n",
       "      <td>3</td>\n",
       "      <td>q8176</td>\n",
       "      <td>a</td>\n",
       "      <td>21000.0</td>\n",
       "    </tr>\n",
       "    <tr>\n",
       "      <th>636571</th>\n",
       "      <td>u690972</td>\n",
       "      <td>1563973152329</td>\n",
       "      <td>2</td>\n",
       "      <td>q4999</td>\n",
       "      <td>b</td>\n",
       "      <td>21000.0</td>\n",
       "    </tr>\n",
       "    <tr>\n",
       "      <th>636572</th>\n",
       "      <td>u690972</td>\n",
       "      <td>1563973194331</td>\n",
       "      <td>1</td>\n",
       "      <td>q8695</td>\n",
       "      <td>a</td>\n",
       "      <td>38000.0</td>\n",
       "    </tr>\n",
       "    <tr>\n",
       "      <th>636573</th>\n",
       "      <td>u690972</td>\n",
       "      <td>1563973209066</td>\n",
       "      <td>0</td>\n",
       "      <td>q5500</td>\n",
       "      <td>b</td>\n",
       "      <td>12000.0</td>\n",
       "    </tr>\n",
       "  </tbody>\n",
       "</table>\n",
       "<p>636574 rows × 6 columns</p>\n",
       "</div>"
      ],
      "text/plain": [
       "        user_id      timestamp  solving_id question_id user_answer  \\\n",
       "0       u289875  1540277432814           6       q4141           c   \n",
       "1       u289875  1540277448548           5       q3904           a   \n",
       "2       u289875  1540277468789           4        q389           b   \n",
       "3       u289875  1540277500366           3       q5720           c   \n",
       "4       u289875  1540277522779           2       q5366           a   \n",
       "...         ...            ...         ...         ...         ...   \n",
       "636569  u690972  1563973081837           4       q3925           a   \n",
       "636570  u690972  1563973105964           3       q8176           a   \n",
       "636571  u690972  1563973152329           2       q4999           b   \n",
       "636572  u690972  1563973194331           1       q8695           a   \n",
       "636573  u690972  1563973209066           0       q5500           b   \n",
       "\n",
       "        elapsed_time  \n",
       "0            17000.0  \n",
       "1            13000.0  \n",
       "2            17000.0  \n",
       "3            29000.0  \n",
       "4            20000.0  \n",
       "...              ...  \n",
       "636569       12000.0  \n",
       "636570       21000.0  \n",
       "636571       21000.0  \n",
       "636572       38000.0  \n",
       "636573       12000.0  \n",
       "\n",
       "[636574 rows x 6 columns]"
      ]
     },
     "execution_count": 2,
     "metadata": {},
     "output_type": "execute_result"
    }
   ],
   "source": [
    "import os\n",
    "path=r'D:\\code\\myd_homework\\student_knowledge_tracing\\dataset\\EdNet\\EdNet-KT1\\KT1'\n",
    "d=[]\n",
    "table_list=[]\n",
    "s=pd.Series(os.listdir(path))\n",
    "file_selected=s.sample(5000).to_numpy()\n",
    "for file_name in file_selected:\n",
    "    data_raw=pd.read_csv(path+'\\\\'+file_name,encoding = \"ISO-8859-15\")\n",
    "    data_raw['user_id']=pd.Series([file_name[:-4]]*len(data_raw))\n",
    "    d.append([file_name[:-4],len(data_raw)])\n",
    "    data=pd.DataFrame(data_raw,columns=['user_id']+data_raw.columns.to_list()[:-1])\n",
    "    table_list.append(data)\n",
    "df=pd.concat(table_list)\n",
    "pd.set_option('display.max_rows',10)\n",
    "df=df.reset_index(drop=True)\n",
    "df"
   ]
  },
  {
   "cell_type": "markdown",
   "id": "6074778c",
   "metadata": {},
   "source": [
    "## General Feature"
   ]
  },
  {
   "cell_type": "code",
   "execution_count": 3,
   "id": "2928bb53",
   "metadata": {
    "scrolled": true
   },
   "outputs": [
    {
     "data": {
      "text/html": [
       "<div>\n",
       "<style scoped>\n",
       "    .dataframe tbody tr th:only-of-type {\n",
       "        vertical-align: middle;\n",
       "    }\n",
       "\n",
       "    .dataframe tbody tr th {\n",
       "        vertical-align: top;\n",
       "    }\n",
       "\n",
       "    .dataframe thead th {\n",
       "        text-align: right;\n",
       "    }\n",
       "</style>\n",
       "<table border=\"1\" class=\"dataframe\">\n",
       "  <thead>\n",
       "    <tr style=\"text-align: right;\">\n",
       "      <th></th>\n",
       "      <th>timestamp</th>\n",
       "      <th>solving_id</th>\n",
       "      <th>elapsed_time</th>\n",
       "    </tr>\n",
       "  </thead>\n",
       "  <tbody>\n",
       "    <tr>\n",
       "      <th>count</th>\n",
       "      <td>6.365740e+05</td>\n",
       "      <td>636574.000000</td>\n",
       "      <td>6.365740e+05</td>\n",
       "    </tr>\n",
       "    <tr>\n",
       "      <th>mean</th>\n",
       "      <td>1.544282e+12</td>\n",
       "      <td>1060.505668</td>\n",
       "      <td>2.627652e+04</td>\n",
       "    </tr>\n",
       "    <tr>\n",
       "      <th>std</th>\n",
       "      <td>2.075758e+10</td>\n",
       "      <td>1662.764837</td>\n",
       "      <td>2.827577e+04</td>\n",
       "    </tr>\n",
       "    <tr>\n",
       "      <th>min</th>\n",
       "      <td>1.495211e+12</td>\n",
       "      <td>0.000000</td>\n",
       "      <td>0.000000e+00</td>\n",
       "    </tr>\n",
       "    <tr>\n",
       "      <th>25%</th>\n",
       "      <td>1.527549e+12</td>\n",
       "      <td>105.000000</td>\n",
       "      <td>1.600000e+04</td>\n",
       "    </tr>\n",
       "    <tr>\n",
       "      <th>50%</th>\n",
       "      <td>1.547024e+12</td>\n",
       "      <td>438.000000</td>\n",
       "      <td>2.100000e+04</td>\n",
       "    </tr>\n",
       "    <tr>\n",
       "      <th>75%</th>\n",
       "      <td>1.563742e+12</td>\n",
       "      <td>1281.000000</td>\n",
       "      <td>3.025000e+04</td>\n",
       "    </tr>\n",
       "    <tr>\n",
       "      <th>max</th>\n",
       "      <td>1.575305e+12</td>\n",
       "      <td>11937.000000</td>\n",
       "      <td>9.985000e+06</td>\n",
       "    </tr>\n",
       "  </tbody>\n",
       "</table>\n",
       "</div>"
      ],
      "text/plain": [
       "          timestamp     solving_id  elapsed_time\n",
       "count  6.365740e+05  636574.000000  6.365740e+05\n",
       "mean   1.544282e+12    1060.505668  2.627652e+04\n",
       "std    2.075758e+10    1662.764837  2.827577e+04\n",
       "min    1.495211e+12       0.000000  0.000000e+00\n",
       "25%    1.527549e+12     105.000000  1.600000e+04\n",
       "50%    1.547024e+12     438.000000  2.100000e+04\n",
       "75%    1.563742e+12    1281.000000  3.025000e+04\n",
       "max    1.575305e+12   11937.000000  9.985000e+06"
      ]
     },
     "execution_count": 3,
     "metadata": {},
     "output_type": "execute_result"
    }
   ],
   "source": [
    "df.describe()"
   ]
  },
  {
   "cell_type": "code",
   "execution_count": 4,
   "id": "bb1123c9",
   "metadata": {},
   "outputs": [
    {
     "data": {
      "text/plain": [
       "12113"
      ]
     },
     "execution_count": 4,
     "metadata": {},
     "output_type": "execute_result"
    }
   ],
   "source": [
    "len(df.question_id.unique())"
   ]
  },
  {
   "cell_type": "markdown",
   "id": "58a0ab42",
   "metadata": {},
   "source": [
    "This shows there are totally 11838 questions."
   ]
  },
  {
   "cell_type": "markdown",
   "id": "5c218f5c",
   "metadata": {},
   "source": [
    "## Missing Value"
   ]
  },
  {
   "cell_type": "code",
   "execution_count": 5,
   "id": "62266eca",
   "metadata": {},
   "outputs": [
    {
     "name": "stdout",
     "output_type": "stream",
     "text": [
      "Part of missing values for every column\n",
      "user_id         0.000000\n",
      "timestamp       0.000000\n",
      "solving_id      0.000000\n",
      "question_id     0.000000\n",
      "user_answer     0.000377\n",
      "elapsed_time    0.000000\n",
      "dtype: float64\n"
     ]
    }
   ],
   "source": [
    "print('Part of missing values for every column')\n",
    "print(df.isnull().sum() / len(df))"
   ]
  },
  {
   "cell_type": "markdown",
   "id": "749711af",
   "metadata": {},
   "source": [
    "This indicates that there are no missing values in all columns except `user_answer`. A missing value in `user_answer` indicates that some students did not choose an option."
   ]
  },
  {
   "cell_type": "code",
   "execution_count": 6,
   "id": "a5dd4d30",
   "metadata": {},
   "outputs": [],
   "source": [
    "df.fillna('not choose',inplace=True)"
   ]
  },
  {
   "cell_type": "markdown",
   "id": "fba824e2",
   "metadata": {},
   "source": [
    "Fill in `not choose` in the position of the missing value"
   ]
  },
  {
   "cell_type": "markdown",
   "id": "4a88b60a",
   "metadata": {},
   "source": [
    "## Sort user_id"
   ]
  },
  {
   "cell_type": "code",
   "execution_count": null,
   "id": "0d9882f9",
   "metadata": {},
   "outputs": [],
   "source": [
    "user_count_table=pd.DataFrame(d,columns=['user_id','count'])\n",
    "ds=user_count_table.sort_values(by=['count'],axis=0).tail(40)\n",
    "fig = px.bar(\n",
    "    ds,\n",
    "    x = 'count',\n",
    "    y = 'user_id',\n",
    "    orientation='h',\n",
    "    title='Top 40 active students'\n",
    ")\n",
    "\n",
    "fig.show(\"svg\")"
   ]
  },
  {
   "cell_type": "markdown",
   "id": "9897e80e",
   "metadata": {},
   "source": [
    "We use the number of questions that students have done as an indicator of whether a student is active. This figure shows the 40 most active students."
   ]
  },
  {
   "cell_type": "code",
   "execution_count": null,
   "id": "d0ea0edd",
   "metadata": {},
   "outputs": [],
   "source": [
    "ds=df.loc[:,['user_id','elapsed_time']].groupby('user_id').mean()\n",
    "ds=ds.reset_index(drop=False)\n",
    "ds.columns=['user_id','avg_elapsed_time']\n",
    "ds_tail=ds.sort_values(by=['avg_elapsed_time'],axis=0).tail(40)\n",
    "\n",
    "fig_tail = px.bar(\n",
    "    ds_tail,\n",
    "    x = 'avg_elapsed_time',\n",
    "    y = 'user_id',\n",
    "    orientation='h',\n",
    "    title='Bottom 40 fast-solving students '\n",
    ")\n",
    "fig_tail.show(\"svg\")\n",
    "ds_head=ds.sort_values(by=['avg_elapsed_time'],axis=0).head(40)\n",
    "fig_head = px.bar(\n",
    "    ds_head,\n",
    "    x = 'avg_elapsed_time',\n",
    "    y = 'user_id',\n",
    "    orientation='h',\n",
    "    title='Top 40 fast-solving students'\n",
    ")\n",
    "fig_head.show(\"svg\")"
   ]
  },
  {
   "cell_type": "markdown",
   "id": "718bc54b",
   "metadata": {},
   "source": [
    "We take the average time it takes students to do a question as an indicator of how fast students do it. These two figures respectively show the fastest and slowest students among the 5000 students, and the average time they spent doing the problems."
   ]
  },
  {
   "cell_type": "markdown",
   "id": "70a688f9",
   "metadata": {},
   "source": [
    "Note that some students spend very little time doing the questions, and the time is almost zero. We can almost judge that these students did not do the questions at all, and they chose blindly. We remove these students and rearrange them"
   ]
  },
  {
   "cell_type": "code",
   "execution_count": null,
   "id": "99525a52",
   "metadata": {},
   "outputs": [],
   "source": [
    "bound=5000 # If the average time of doing the topic is less than 5000, it means that the student is most likely to be bad\n",
    "ds=df.loc[:,['user_id','elapsed_time']].groupby('user_id').mean()\n",
    "ds=ds.reset_index(drop=False)\n",
    "ds.columns=['user_id','avg_elapsed_time']\n",
    "bad_user_ids=ds[ds['avg_elapsed_time']<bound]['user_id'].to_list()\n",
    "df_drop=df.drop(df[df['user_id'].isin(bad_user_ids)].index)\n",
    "print('bad students number is ',len(bad_user_ids))\n",
    "print('length of table after dropping is ',len(df_drop))"
   ]
  },
  {
   "cell_type": "markdown",
   "id": "75af20a7",
   "metadata": {},
   "source": [
    "### After dropping"
   ]
  },
  {
   "cell_type": "code",
   "execution_count": null,
   "id": "f4cf4502",
   "metadata": {},
   "outputs": [],
   "source": [
    "ds=df_drop['user_id'].value_counts().reset_index(drop=False)\n",
    "ds.columns=['user_id','count']\n",
    "ds_tail=ds.sort_values(by=['count'],axis=0).tail(40)\n",
    "fig_tail = px.bar(\n",
    "    ds_tail,\n",
    "    x = 'count',\n",
    "    y = 'user_id',\n",
    "    orientation='h',\n",
    "    title='Top 40 active students after dropping some students'\n",
    ")\n",
    "fig_tail.show(\"svg\")"
   ]
  },
  {
   "cell_type": "markdown",
   "id": "f9c2aa93",
   "metadata": {},
   "source": [
    "This figure shows the 40 most active students after dropping some bad students."
   ]
  },
  {
   "cell_type": "code",
   "execution_count": null,
   "id": "b9381627",
   "metadata": {},
   "outputs": [],
   "source": [
    "ds=df_drop.loc[:,['user_id','elapsed_time']].groupby('user_id').mean()\n",
    "ds=ds.reset_index(drop=False)\n",
    "ds.columns=['user_id','avg_elapsed_time']\n",
    "\n",
    "ds_head=ds.sort_values(by=['avg_elapsed_time'],axis=0).head(40)\n",
    "fig_head = px.bar(\n",
    "    ds_head,\n",
    "    x = 'avg_elapsed_time',\n",
    "    y = 'user_id',\n",
    "    orientation='h',\n",
    "    title='Top 40 fast-solving students after dropping some students'\n",
    ")\n",
    "fig_head.show(\"svg\")"
   ]
  },
  {
   "cell_type": "markdown",
   "id": "8c9248e9",
   "metadata": {},
   "source": [
    "This figure respectively show the more reasonable fastest students among the 5000 students than before, and the average time they spent doing the problems."
   ]
  },
  {
   "cell_type": "markdown",
   "id": "b3b03b1e",
   "metadata": {},
   "source": [
    "## Sort question_id"
   ]
  },
  {
   "cell_type": "code",
   "execution_count": null,
   "id": "5a17292e",
   "metadata": {},
   "outputs": [],
   "source": [
    "ds=df.loc[:,['question_id','elapsed_time']].groupby('question_id').mean()\n",
    "ds=ds.reset_index(drop=False)\n",
    "ds_tail=ds.sort_values(by=['elapsed_time'],axis=0).tail(40)\n",
    "fig_tail = px.bar(\n",
    "    ds_tail,\n",
    "    x = 'elapsed_time',\n",
    "    y = 'question_id',\n",
    "    orientation='h',\n",
    "    title='Top 40 question_id by the average of elapsed_time'\n",
    ")\n",
    "fig_tail.show(\"svg\")\n",
    "ds_head=ds.sort_values(by=['elapsed_time'],axis=0).head(40)\n",
    "fig_head = px.bar(\n",
    "    ds_head,\n",
    "    x = 'elapsed_time',\n",
    "    y = 'question_id',\n",
    "    orientation='h',\n",
    "    title='Bottom 40 question_id by the average of elapsed_time'\n",
    ")\n",
    "fig_head.show(\"svg\")"
   ]
  },
  {
   "cell_type": "markdown",
   "id": "6b8e5801",
   "metadata": {},
   "source": [
    "We can judge the difficulty of this question from the average time spent on a question.  \n",
    "These two figures reflect the difficulty of the questions and shows the ids of the 40 most difficult and 40 easiest questions.s"
   ]
  },
  {
   "cell_type": "markdown",
   "id": "b3ff8e5e",
   "metadata": {},
   "source": [
    "## Appearence of Questions"
   ]
  },
  {
   "cell_type": "code",
   "execution_count": null,
   "id": "58a77246",
   "metadata": {},
   "outputs": [],
   "source": [
    "ds=df['question_id'].value_counts().reset_index(drop=False)\n",
    "ds.columns=['question_id','count']\n",
    "ds_tail=ds.sort_values(by=['count'],axis=0).tail(40)\n",
    "fig_tail = px.bar(\n",
    "    ds_tail,\n",
    "    x = 'count',\n",
    "    y = 'question_id',\n",
    "    orientation='h',\n",
    "    title='Top 40 question_id by the number of appearance'\n",
    ")\n",
    "fig_tail.show(\"svg\")\n",
    "ds_head=ds.sort_values(by=['count'],axis=0).head(40)\n",
    "fig_head = px.bar(\n",
    "    ds_head,\n",
    "    x = 'count',\n",
    "    y = 'question_id',\n",
    "    orientation='h',\n",
    "    title='Bottom 40 question_id by the number of appearance'\n",
    ")\n",
    "fig_head.show(\"svg\")"
   ]
  },
  {
   "cell_type": "markdown",
   "id": "c9ba95c9",
   "metadata": {},
   "source": [
    "These two images reflect the 40 questions that were drawn the most frequently and the 40 questions that were drawn the least frequently"
   ]
  },
  {
   "cell_type": "code",
   "execution_count": null,
   "id": "c2a6feac",
   "metadata": {},
   "outputs": [],
   "source": [
    "ds2=df['question_id'].value_counts().reset_index(drop=False)\n",
    "ds2.columns=['question_id','count']\n",
    "def convert_id2int(x):\n",
    "    return pd.Series(map(lambda t:int(t[1:]),x))  \n",
    "ds2['question_id']=convert_id2int(ds2['question_id'])\n",
    "ds2.sort_values(by=['question_id'])\n",
    "fig = px.histogram(\n",
    "    ds2,\n",
    "    x = 'question_id',\n",
    "    y = 'count',\n",
    "    title='question distribution'\n",
    ")\n",
    "fig.show(\"svg\")"
   ]
  },
  {
   "cell_type": "markdown",
   "id": "7efd5464",
   "metadata": {},
   "source": [
    "##  Question's Option Selected Most Frequently"
   ]
  },
  {
   "cell_type": "code",
   "execution_count": null,
   "id": "6ac78362",
   "metadata": {},
   "outputs": [],
   "source": [
    "ds=df.loc[:,['question_id','user_answer','user_id']].groupby(['question_id','user_answer']).count()\n",
    "\n",
    "most_count_dict={}\n",
    "for id in df.question_id.unique():\n",
    "    most_count=ds.loc[id].apply(lambda x:x.max())[0]\n",
    "    most_count_dict[id]=most_count\n",
    "ds2=ds.apply(lambda x:x-most_count_dict[x.name[0]],axis=1)\n",
    "ds2=ds2[ds2.user_id==0]\n",
    "ds2=ds2.reset_index(drop=False).loc[:,['question_id','user_answer']]\n",
    "ds2.columns=['question_id','most_answer']\n",
    "ds2.index=ds2['question_id']\n",
    "ds2['most_answer']"
   ]
  },
  {
   "cell_type": "markdown",
   "id": "485e8120",
   "metadata": {},
   "source": [
    "This shows the most selected options (including `not choose`) for each question.   \n",
    "Note that if there are multiple options for a question to be selected most frequently, the table will also contain them."
   ]
  },
  {
   "cell_type": "markdown",
   "id": "1a4f6af5",
   "metadata": {},
   "source": [
    "## Choices Distribution"
   ]
  },
  {
   "cell_type": "code",
   "execution_count": null,
   "id": "efd13a82",
   "metadata": {},
   "outputs": [],
   "source": [
    "ds = df['user_answer'].value_counts().reset_index(drop=False)\n",
    "ds.columns = ['user_answer', 'percent']\n",
    "\n",
    "ds['percent']=ds['percent']/len(df)\n",
    "ds = ds.sort_values(by=['percent'])\n",
    "\n",
    "fig = px.pie(\n",
    "    ds,\n",
    "    names = ds['user_answer'],\n",
    "    values = 'percent',\n",
    "    title = 'Percent of Choice'    \n",
    ")\n",
    "\n",
    "fig.show(\"svg\")"
   ]
  },
  {
   "cell_type": "markdown",
   "id": "24b367e7",
   "metadata": {},
   "source": [
    "We use a pie chart to show the distribution of the proportions of `a`, `b`, `c`, `d` and `not choose` among the options selected by the 5000 students."
   ]
  },
  {
   "cell_type": "markdown",
   "id": "2fb42b54",
   "metadata": {},
   "source": [
    "## Sort By Time Stamp"
   ]
  },
  {
   "cell_type": "code",
   "execution_count": null,
   "id": "a7be21d8",
   "metadata": {},
   "outputs": [],
   "source": [
    "import time\n",
    "import datetime"
   ]
  },
  {
   "cell_type": "code",
   "execution_count": null,
   "id": "19b062cb",
   "metadata": {},
   "outputs": [],
   "source": [
    "df_time=df.copy()\n",
    "columns=df.columns.to_list()\n",
    "columns[1]='time'\n",
    "df_time.columns=columns\n",
    "df_time['time'] /= 1000\n",
    "df_time['time']=pd.Series(map(datetime.datetime.fromtimestamp,df_time['time']))\n",
    "df_time"
   ]
  },
  {
   "cell_type": "markdown",
   "id": "76a68943",
   "metadata": {},
   "source": [
    "This table shows the result of converting unix timestamp to datetime format"
   ]
  },
  {
   "cell_type": "markdown",
   "id": "efecaf90",
   "metadata": {},
   "source": [
    "### question distribution by time"
   ]
  },
  {
   "cell_type": "code",
   "execution_count": null,
   "id": "a91bdcea",
   "metadata": {},
   "outputs": [],
   "source": [
    "ds_time_question=df_time.loc[:,['time','question_id']]\n",
    "ds_time_question=ds_time_question.sort_values(by=['time'])\n",
    "ds_time_question"
   ]
  },
  {
   "cell_type": "markdown",
   "id": "1a81da5d",
   "metadata": {},
   "source": [
    "This table shows the given questions in chronological order.And we can see that the earliest question q127 is on May 11, 2017, and the latest question q10846 is on December 3, 2019."
   ]
  },
  {
   "cell_type": "code",
   "execution_count": null,
   "id": "69af5a65",
   "metadata": {},
   "outputs": [],
   "source": [
    "ds_time_question['year']=pd.Series(map(lambda x :x.year,ds_time_question['time']))\n",
    "ds_time_question['month']=pd.Series(map(lambda x :x.month,ds_time_question['time']))\n",
    "ds=ds_time_question.loc[:,['year','month']].value_counts()\n",
    "\n",
    "years=ds_time_question['year'].unique()\n",
    "years.sort()\n",
    "fig=make_subplots(\n",
    "    rows=2,\n",
    "    cols=2,\n",
    "    start_cell='top-left',\n",
    "    subplot_titles=tuple(map(str,years))\n",
    ")\n",
    "traces=[\n",
    "    go.Bar(\n",
    "        x=ds[year].reset_index().sort_values(by=['month'],axis=0)['month'].to_list(),\n",
    "        y=ds[year].reset_index().sort_values(by=['month'],axis=0)[0].to_list(),\n",
    "        name='Year: '+str(year),\n",
    "        text=[ds[year][month] for month in ds[year].reset_index().sort_values(by=['month'],axis=0)['month'].to_list()],\n",
    "        textposition='auto'\n",
    "    ) for year in years\n",
    "]\n",
    "for i in range(len(traces)):\n",
    "    fig.append_trace(traces[i],(i//2)+1,(i%2)+1)\n",
    "\n",
    "fig.update_layout(title_text='Bar of the distribution of the number of question solved in {} years'.format(len(traces)))\n",
    "fig.show('svg')"
   ]
  },
  {
   "cell_type": "markdown",
   "id": "1506866d",
   "metadata": {},
   "source": [
    "1. These three figures show the distribution of the number of problems solved in each month of 2017, 2018, and 2019.  \n",
    "2. And the number of questions solved is gradually increasing.  \n",
    "3. And the number of questions solved in March, 4, May, and June is generally small."
   ]
  },
  {
   "cell_type": "markdown",
   "id": "dce95b18",
   "metadata": {},
   "source": [
    "### user distribution by time"
   ]
  },
  {
   "cell_type": "code",
   "execution_count": null,
   "id": "349779b2",
   "metadata": {},
   "outputs": [],
   "source": [
    "ds_time_user=df_time.loc[:,['user_id','time']]\n",
    "ds_time_user=ds_time_user.sort_values(by=['time'])\n",
    "ds_time_user"
   ]
  },
  {
   "cell_type": "markdown",
   "id": "18b5f120",
   "metadata": {},
   "source": [
    "This table shows the students who did the questions in order of time.And we can see that the first student who does the problem is u21056, and the last student who does the problem is u9476."
   ]
  },
  {
   "cell_type": "code",
   "execution_count": null,
   "id": "a30c7178",
   "metadata": {},
   "outputs": [],
   "source": [
    "ds_time_user=df_time.loc[:,['user_id','time']]\n",
    "ds_time_user=ds_time_user.sort_values(by=['time'])\n",
    "ds_time_user['year']=pd.Series(map(lambda x :x.year,ds_time_user['time']))\n",
    "ds_time_user['month']=pd.Series(map(lambda x :x.month,ds_time_user['time']))\n",
    "ds_time_user.drop(['time'],axis=1,inplace=True)\n",
    "ds=ds_time_user.groupby(['year','month']).nunique()\n",
    "\n",
    "years=ds_time_user['year'].unique()\n",
    "years.sort()\n",
    "fig=make_subplots(\n",
    "    rows=2,\n",
    "    cols=2,\n",
    "    start_cell='top-left',\n",
    "    subplot_titles=tuple(map(str,years))\n",
    ")\n",
    "traces=[\n",
    "    go.Bar(\n",
    "        x=ds.loc[year].reset_index()['month'].to_list(),\n",
    "        y=ds.loc[year].reset_index()['user_id'].to_list(),\n",
    "        name='Year: '+str(year),\n",
    "        text=[ds.loc[year].loc[month,'user_id'] for month in ds.loc[year].reset_index()['month'].to_list()],\n",
    "        textposition='auto'\n",
    "    ) for year in years\n",
    "]\n",
    "for i in range(len(traces)):\n",
    "    fig.append_trace(traces[i],(i//2)+1,(i%2)+1)\n",
    "\n",
    "fig.update_layout(title_text='Bar of the distribution of the number of active students in {} years'.format(len(traces)))\n",
    "fig.show('svg')"
   ]
  },
  {
   "cell_type": "markdown",
   "id": "f4ba6d3d",
   "metadata": {},
   "source": [
    "1. These three graphs respectively show the number of students active on the system in each month of 2017, 2018, and 2019.  \n",
    "2. And we can see that the number of active students in 2019 is generally more than that in 2018, and there are more in 2018 than in 2017, indicating that the number of users of the system is gradually increasing.  \n",
    "3. Note that the number of students is not repeated here"
   ]
  },
  {
   "cell_type": "code",
   "execution_count": null,
   "id": "48a89016-43f1-4c82-8a1f-ddc9346b710f",
   "metadata": {},
   "outputs": [],
   "source": []
  },
  {
   "cell_type": "code",
   "execution_count": null,
   "id": "e5d57174-e5e5-4d8b-b992-7fae100121a6",
   "metadata": {},
   "outputs": [],
   "source": []
  },
  {
   "cell_type": "code",
   "execution_count": null,
   "id": "460e1557-234a-4f6b-8e6d-4ef028eca284",
   "metadata": {},
   "outputs": [],
   "source": []
  },
  {
   "cell_type": "code",
   "execution_count": null,
   "id": "e3b73919-1ec9-471a-8080-398975d18c2d",
   "metadata": {},
   "outputs": [],
   "source": []
  },
  {
   "cell_type": "code",
   "execution_count": null,
   "id": "704ee72b-551f-4fe9-b6d2-6fb45ec10187",
   "metadata": {},
   "outputs": [],
   "source": []
  },
  {
   "cell_type": "code",
   "execution_count": null,
   "id": "ee1410f4-843d-4a83-aa4f-fdd04dea0821",
   "metadata": {},
   "outputs": [],
   "source": []
  },
  {
   "cell_type": "code",
   "execution_count": null,
   "id": "0145fb2d-d6e9-47f0-9701-09827d1f71f7",
   "metadata": {},
   "outputs": [],
   "source": []
  },
  {
   "cell_type": "code",
   "execution_count": null,
   "id": "b6d1b9f4-4d6f-4e76-9e2e-cab6906be0e0",
   "metadata": {},
   "outputs": [],
   "source": []
  },
  {
   "cell_type": "code",
   "execution_count": null,
   "id": "aecc6783-1c3b-464c-b03b-3c723c44fc76",
   "metadata": {},
   "outputs": [],
   "source": []
  },
  {
   "cell_type": "code",
   "execution_count": null,
   "id": "a13d9650-f368-4c28-8701-79f76216576f",
   "metadata": {},
   "outputs": [],
   "source": []
  }
 ],
 "metadata": {
  "kernelspec": {
   "display_name": "Python 3 (ipykernel)",
   "language": "python",
   "name": "python3"
  },
  "language_info": {
   "codemirror_mode": {
    "name": "ipython",
    "version": 3
   },
   "file_extension": ".py",
   "mimetype": "text/x-python",
   "name": "python",
   "nbconvert_exporter": "python",
   "pygments_lexer": "ipython3",
   "version": "3.10.16"
  }
 },
 "nbformat": 4,
 "nbformat_minor": 5
}
